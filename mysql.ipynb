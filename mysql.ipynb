{
 "cells": [
  {
   "cell_type": "markdown",
   "metadata": {},
   "source": [
    "### Python MySQL\n",
    "\n",
    "Python needs a MySQL driver to access the MySQL database.\n",
    "\n",
    "In this tutorial we will use the driver \"MySQL Connector\""
   ]
  },
  {
   "cell_type": "markdown",
   "metadata": {},
   "source": [
    "Create Connection\n",
    "\n",
    "Start by creating a connection to the database.\n",
    "\n",
    "Use the username and password from your MySQL database:"
   ]
  },
  {
   "cell_type": "code",
   "execution_count": 99,
   "metadata": {},
   "outputs": [],
   "source": [
    "import sql_connect\n",
    "\n",
    "cursor, db =sql_connect.credentials()\n",
    "\n"
   ]
  },
  {
   "cell_type": "markdown",
   "metadata": {},
   "source": [
    "Creatting Database "
   ]
  },
  {
   "cell_type": "code",
   "execution_count": 100,
   "metadata": {},
   "outputs": [],
   "source": [
    "# cursor.execute(\"CREATE DATABASE fx\")"
   ]
  },
  {
   "cell_type": "code",
   "execution_count": 101,
   "metadata": {},
   "outputs": [
    {
     "name": "stdout",
     "output_type": "stream",
     "text": [
      "('acquilafx',)\n",
      "('customers',)\n",
      "('fx',)\n",
      "('information_schema',)\n",
      "('kilimo',)\n",
      "('moviesdb',)\n",
      "('mysql',)\n",
      "('performance_schema',)\n",
      "('sys',)\n",
      "('tecnobrain',)\n"
     ]
    }
   ],
   "source": [
    "cursor.execute(\"SHOW DATABASES\")\n",
    "for x in cursor:\n",
    "    print (x)"
   ]
  },
  {
   "cell_type": "markdown",
   "metadata": {},
   "source": [
    "## Create Table"
   ]
  },
  {
   "cell_type": "code",
   "execution_count": 102,
   "metadata": {},
   "outputs": [],
   "source": [
    "# cursor.execute (\"USE fx\")"
   ]
  },
  {
   "cell_type": "code",
   "execution_count": 103,
   "metadata": {},
   "outputs": [],
   "source": [
    "# cursor.execute('CREATE TABLE eurusd (name VARCHAR(255), price float(34))')"
   ]
  },
  {
   "cell_type": "markdown",
   "metadata": {},
   "source": [
    "## Primary Key\n",
    "\n",
    "When creating a table, you should also create a column with a unique key for each record.\n",
    "\n",
    "This can be done by defining a PRIMARY KEY.\n",
    "\n",
    "We use the statement \"INT AUTO_INCREMENT PRIMARY KEY\" which will insert a unique number for each record. Starting at 1, and increased by one for each record."
   ]
  },
  {
   "cell_type": "code",
   "execution_count": 104,
   "metadata": {},
   "outputs": [],
   "source": [
    "# since the table already exist, we use alter table\n",
    "\n",
    "# cursor.execute(\"ALTER TABLE EURUSD ADD COLUMN id INT AUTO_INCREMENT PRIMARY KEY\")"
   ]
  },
  {
   "cell_type": "markdown",
   "metadata": {},
   "source": [
    "Insert Into Table\n",
    "\n",
    "To fill a table in MySQL, use the \"INSERT INTO\" statement."
   ]
  },
  {
   "cell_type": "markdown",
   "metadata": {},
   "source": [
    "Important!: Notice the statement: mydb.commit(). It is required to make the changes, otherwise no changes are made to the table."
   ]
  },
  {
   "cell_type": "code",
   "execution_count": 105,
   "metadata": {},
   "outputs": [],
   "source": [
    "# sql=\"INSERT INTO EURUSD (name, price) VALUES(%s,%s)\"\n",
    "# val= ('used', 2345)\n",
    "# cursor.execute(sql, val)\n",
    "# db.commit() # saving the changes "
   ]
  },
  {
   "cell_type": "code",
   "execution_count": 106,
   "metadata": {},
   "outputs": [
    {
     "name": "stdout",
     "output_type": "stream",
     "text": [
      "10 record inserted\n"
     ]
    }
   ],
   "source": [
    "print(cursor.rowcount,\"record inserted\")"
   ]
  },
  {
   "cell_type": "markdown",
   "metadata": {},
   "source": [
    "### Insert Multiple Rows\n",
    "\n",
    "To insert multiple rows into a table, use the executemany() method.\n",
    "\n",
    "The second parameter of the executemany() method is a list of tuples, containing the data you want to insert:"
   ]
  },
  {
   "cell_type": "code",
   "execution_count": 107,
   "metadata": {},
   "outputs": [],
   "source": [
    "# sql= \"INSERT INTO EURUSD (name, price) VALUES(%s, %s)\"\n",
    "# val= [('jpy', 2345),\n",
    "#       ('cad', 3564),\n",
    "#       ('ksh',130),\n",
    "#       ('tsh',2456)]\n",
    "# cursor.executemany(sql,val)\n",
    "# db.commit()\n",
    "# cursor.rowcount"
   ]
  },
  {
   "cell_type": "markdown",
   "metadata": {},
   "source": [
    "### Get Inserted ID\n",
    "\n",
    "You can get the id of the row you just inserted by asking the cursor object.\n",
    "\n",
    "Note: If you insert more than one row, the id of the last inserted row is returned."
   ]
  },
  {
   "cell_type": "code",
   "execution_count": 108,
   "metadata": {},
   "outputs": [],
   "source": [
    "# sql= \"INSERT INTO EURUSD (name, price) VALUES (%s, %s)\"\n",
    "# val= ('ssd', 456)\n",
    "# cursor.execute(sql, val)\n",
    "# db.commit()\n",
    "\n",
    "# print('the row inserted ID IS ', cursor.lastrowid)"
   ]
  },
  {
   "cell_type": "markdown",
   "metadata": {},
   "source": [
    "### Create Table with no auto primary keys \n",
    "\n",
    "1. Manually Assigning a Primary Key\n",
    "\n",
    "Instead of using AUTO_INCREMENT, you can manually insert unique values\n",
    "Note: when creating a table, the columns must be declared during creation\n"
   ]
  },
  {
   "cell_type": "code",
   "execution_count": 109,
   "metadata": {},
   "outputs": [],
   "source": [
    "# cursor.execute (\"CREATE table orders (\"\n",
    "# \"order_Id  INT PRIMARY KEY,\"\n",
    "# \"product_name VARCHAR (255)\"\n",
    "# \",price INT)\")"
   ]
  },
  {
   "cell_type": "code",
   "execution_count": 110,
   "metadata": {},
   "outputs": [],
   "source": [
    "# cursor.execute(\"show tables\")\n",
    "# for x in cursor:\n",
    "#     print (x)"
   ]
  },
  {
   "cell_type": "code",
   "execution_count": 111,
   "metadata": {},
   "outputs": [
    {
     "data": {
      "text/plain": [
       "\"INSERT INTO orders (order_id,product_name, price) VALUES (1023, 'bitcoin', 345)\""
      ]
     },
     "execution_count": 111,
     "metadata": {},
     "output_type": "execute_result"
    }
   ],
   "source": [
    "# inserting info in orders table\n",
    "\"INSERT INTO orders (order_id,product_name, price) VALUES (1023, 'bitcoin', 345)\""
   ]
  },
  {
   "cell_type": "markdown",
   "metadata": {},
   "source": [
    " ### Using UUID Instead of Integer (For Distributed Systems)\n",
    "If you need unique IDs across multiple databases, use UUID instead of AUTO_INCREMENT.\n",
    "\n",
    "Using UUID as a Primary Key in MySQL for Distributed Databases\n",
    "\n",
    "In distributed systems, UUID (Universally Unique Identifier) is often used as a primary key instead of AUTO_INCREMENT to ensure globally unique IDs across multiple servers.\n"
   ]
  },
  {
   "cell_type": "code",
   "execution_count": 112,
   "metadata": {},
   "outputs": [],
   "source": [
    "# cursor.execute (\"CREATE TABLE users (user_id CHAR(36) PRIMARY KEY DEFAULT (UUID()), name VARCHAR (255))\")"
   ]
  },
  {
   "cell_type": "code",
   "execution_count": 113,
   "metadata": {},
   "outputs": [],
   "source": [
    "# cursor.execute(\"INSERT INTO  users (name) VALUES ('thomas')\")"
   ]
  },
  {
   "cell_type": "code",
   "execution_count": 114,
   "metadata": {},
   "outputs": [
    {
     "data": {
      "text/plain": [
       "10"
      ]
     },
     "execution_count": 114,
     "metadata": {},
     "output_type": "execute_result"
    }
   ],
   "source": [
    "cursor.rowcount"
   ]
  },
  {
   "cell_type": "markdown",
   "metadata": {},
   "source": [
    "### MySQL Select From"
   ]
  },
  {
   "cell_type": "code",
   "execution_count": 115,
   "metadata": {},
   "outputs": [],
   "source": [
    "# cursor.execute(\"SELECT * FROM eurusd\")\n",
    "# result= cursor.fetchall()\n",
    "\n",
    "# for x in result:\n",
    "#     print (x)\n"
   ]
  },
  {
   "cell_type": "code",
   "execution_count": 116,
   "metadata": {},
   "outputs": [
    {
     "data": {
      "text/plain": [
       "10"
      ]
     },
     "execution_count": 116,
     "metadata": {},
     "output_type": "execute_result"
    }
   ],
   "source": [
    "cursor.rowcount"
   ]
  },
  {
   "cell_type": "markdown",
   "metadata": {},
   "source": [
    "### Selecting Columns\n",
    "\n",
    "To select only some of the columns in a table, use the \"SELECT\" statement followed by the column name(s):"
   ]
  },
  {
   "cell_type": "code",
   "execution_count": 117,
   "metadata": {},
   "outputs": [],
   "source": [
    "# cursor.execute (\"SELECT name FROM eurusd\")\n",
    "# cursor.fetchmany(5)"
   ]
  },
  {
   "cell_type": "markdown",
   "metadata": {},
   "source": [
    "### Using the fetchone() Method"
   ]
  },
  {
   "cell_type": "code",
   "execution_count": 118,
   "metadata": {},
   "outputs": [],
   "source": [
    "# cursor.execute(\"SELECT name FROM eurusd\")\n",
    "# cursor.fetchone()"
   ]
  },
  {
   "cell_type": "markdown",
   "metadata": {},
   "source": [
    "## MySQL Where\n",
    "\n",
    "Select With a Filter\n",
    "\n",
    "When selecting records from a table, you can filter the selection by using the \"WHERE\" statement:"
   ]
  },
  {
   "cell_type": "code",
   "execution_count": 119,
   "metadata": {},
   "outputs": [],
   "source": [
    "cursor.execute(\"use moviesdb\")\n"
   ]
  },
  {
   "cell_type": "code",
   "execution_count": 120,
   "metadata": {},
   "outputs": [
    {
     "name": "stdout",
     "output_type": "stream",
     "text": [
      "('actors',)\n",
      "('financials',)\n",
      "('languages',)\n",
      "('movie_actor',)\n",
      "('movies',)\n"
     ]
    }
   ],
   "source": [
    "cursor.execute(\"SHOW TABLES\")\n",
    "for x in cursor:\n",
    "    print (x)"
   ]
  },
  {
   "cell_type": "code",
   "execution_count": 121,
   "metadata": {},
   "outputs": [],
   "source": [
    "cursor.execute(\"SELECT * FROM actors\")\n",
    "result =cursor.fetchmany(5)\n",
    "\n"
   ]
  },
  {
   "cell_type": "code",
   "execution_count": 124,
   "metadata": {},
   "outputs": [
    {
     "name": "stdout",
     "output_type": "stream",
     "text": [
      "(152, 'Darsheel Safary', 1997)\n",
      "(170, 'Kiara Advani', 1991)\n"
     ]
    }
   ],
   "source": [
    "cursor.fetchall() # clearing the the preceeding querry\n",
    "\n",
    "\n",
    "sql=\"SELECT * FROM actors WHERE birth_year > 1990\"\n",
    "cursor. execute (sql)\n",
    "result =cursor.fetchall()\n",
    "for x in result:\n",
    "    print (x)"
   ]
  },
  {
   "cell_type": "code",
   "execution_count": null,
   "metadata": {},
   "outputs": [
    {
     "data": {
      "text/plain": [
       "[('actor_id', 3, None, None, None, None, 0, 16931, 63),\n",
       " ('name', 253, None, None, None, None, 0, 4097, 45),\n",
       " ('birth_year', 13, None, None, None, None, 1, 96, 63)]"
      ]
     },
     "execution_count": 9,
     "metadata": {},
     "output_type": "execute_result"
    }
   ],
   "source": [
    "cursor.description"
   ]
  },
  {
   "cell_type": "markdown",
   "metadata": {},
   "source": [
    "### Wildcard Characters\n",
    "\n",
    "You can also select the records that starts, includes, or ends with a given letter or phrase.\n",
    "\n",
    "Use the %  to represent wildcard characters:\n",
    "\n",
    "Names starting with \"A\""
   ]
  },
  {
   "cell_type": "code",
   "execution_count": 130,
   "metadata": {},
   "outputs": [
    {
     "data": {
      "text/plain": [
       "[(67, 'Tim Robbins', 1958),\n",
       " (95, 'Chris Evans', 1981),\n",
       " (160, 'Prabhas', 1979),\n",
       " (166, 'Tommy Lee Jones', 1946)]"
      ]
     },
     "execution_count": 130,
     "metadata": {},
     "output_type": "execute_result"
    }
   ],
   "source": [
    "cursor.fetchall()\n",
    "\n",
    "sql= \"SELECT * FROM actors WHERE name LIKE '%s'\"\n",
    "cursor.execute(sql)\n",
    "cursor.fetchall()\n"
   ]
  },
  {
   "cell_type": "markdown",
   "metadata": {},
   "source": [
    "\n",
    "Names ending  with \"A\""
   ]
  },
  {
   "cell_type": "code",
   "execution_count": 131,
   "metadata": {},
   "outputs": [
    {
     "data": {
      "text/plain": [
       "[(51, 'Sanjay Dutt', 1959),\n",
       " (59, 'Shah Rukh Khan', 1965),\n",
       " (63, 'Sharman Joshi', 1979),\n",
       " (82, 'Sam Worthington', 1976),\n",
       " (90, 'Sam Neill', 1947),\n",
       " (92, 'Song Kang-ho', 1967),\n",
       " (153, 'Sunil Dutt', 1929),\n",
       " (164, 'Salman Khan', 1965),\n",
       " (167, 'Sebastian Stan', 1982),\n",
       " (169, 'Sidharth Malhotra', 1985)]"
      ]
     },
     "execution_count": 131,
     "metadata": {},
     "output_type": "execute_result"
    }
   ],
   "source": [
    "cursor.fetchall()\n",
    "\n",
    "sql= \"SELECT * FROM actors WHERE name LIKE 's%'\"\n",
    "cursor.execute(sql)\n",
    "cursor.fetchall()"
   ]
  },
  {
   "cell_type": "markdown",
   "metadata": {},
   "source": [
    "Names containing \"sa\" anywhere"
   ]
  },
  {
   "cell_type": "code",
   "execution_count": 132,
   "metadata": {},
   "outputs": [
    {
     "data": {
      "text/plain": [
       "[(51, 'Sanjay Dutt', 1959),\n",
       " (82, 'Sam Worthington', 1976),\n",
       " (83, 'Zoe Saldana', 1978),\n",
       " (90, 'Sam Neill', 1947),\n",
       " (152, 'Darsheel Safary', 1997),\n",
       " (164, 'Salman Khan', 1965)]"
      ]
     },
     "execution_count": 132,
     "metadata": {},
     "output_type": "execute_result"
    }
   ],
   "source": [
    "cursor.fetchall()\n",
    "\n",
    "sql= \"SELECT * FROM actors WHERE name LIKE '%sa%'\"\n",
    "cursor.execute(sql)\n",
    "cursor.fetchall()"
   ]
  },
  {
   "cell_type": "markdown",
   "metadata": {},
   "source": [
    "### MySQL Order By\n",
    "\n",
    "Sort the Result\n",
    "\n",
    "Use the ORDER BY statement to sort the result in ascending or descending order.\n",
    "\n",
    "The ORDER BY keyword sorts the result ascending by default. To sort the result in descending order, use the DESC keyword.\n",
    "\n",
    "Example"
   ]
  },
  {
   "cell_type": "code",
   "execution_count": 134,
   "metadata": {},
   "outputs": [
    {
     "data": {
      "text/plain": [
       "[(61, 'Aamir Khan', 1965),\n",
       " (85, 'Al Pacino', 1940),\n",
       " (156, 'Allu Arjun', 1982),\n",
       " (57, 'Amitabh Bachchan', 1942),\n",
       " (168, 'Anil Kapoor', 1956)]"
      ]
     },
     "execution_count": 134,
     "metadata": {},
     "output_type": "execute_result"
    }
   ],
   "source": [
    "cursor.fetchall()\n",
    "\n",
    "cursor.execute(\"SELECT * FROM actors ORDER BY name\")\n",
    "cursor.fetchmany(5)"
   ]
  },
  {
   "cell_type": "code",
   "execution_count": 135,
   "metadata": {},
   "outputs": [
    {
     "data": {
      "text/plain": [
       "[(83, 'Zoe Saldana', 1978),\n",
       " (50, 'Yash', 1986),\n",
       " (75, 'Will Smith', 1968),\n",
       " (166, 'Tommy Lee Jones', 1946),\n",
       " (56, 'Tom Hiddleston', 1981)]"
      ]
     },
     "execution_count": 135,
     "metadata": {},
     "output_type": "execute_result"
    }
   ],
   "source": [
    "cursor.fetchall()\n",
    "\n",
    "cursor.execute(\"SELECT * FROM actors ORDER BY name DESC\")\n",
    "cursor.fetchmany(5)"
   ]
  },
  {
   "cell_type": "code",
   "execution_count": null,
   "metadata": {},
   "outputs": [],
   "source": []
  },
  {
   "cell_type": "code",
   "execution_count": null,
   "metadata": {},
   "outputs": [],
   "source": []
  },
  {
   "cell_type": "code",
   "execution_count": null,
   "metadata": {},
   "outputs": [],
   "source": []
  }
 ],
 "metadata": {
  "kernelspec": {
   "display_name": "Python (learn-env)",
   "language": "python",
   "name": "learn-env"
  },
  "language_info": {
   "codemirror_mode": {
    "name": "ipython",
    "version": 3
   },
   "file_extension": ".py",
   "mimetype": "text/x-python",
   "name": "python",
   "nbconvert_exporter": "python",
   "pygments_lexer": "ipython3",
   "version": "3.10.14"
  }
 },
 "nbformat": 4,
 "nbformat_minor": 2
}
